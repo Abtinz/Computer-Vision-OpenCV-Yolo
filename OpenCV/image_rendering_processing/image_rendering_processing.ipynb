{
 "cells": [
  {
   "cell_type": "code",
   "execution_count": 2,
   "id": "4ee3c706",
   "metadata": {},
   "outputs": [],
   "source": [
    "import cv2 as cv\n",
    "import numpy as np"
   ]
  },
  {
   "cell_type": "markdown",
   "id": "b725248e",
   "metadata": {},
   "source": [
    "# Image Reading and Demonstration and Saving In OpenCV"
   ]
  },
  {
   "cell_type": "code",
   "execution_count": 3,
   "id": "60bbeda3",
   "metadata": {},
   "outputs": [],
   "source": [
    "#this is how we read an image in CV2\n",
    "image = cv.imread(\"./sherlock.jpg\")"
   ]
  },
  {
   "cell_type": "code",
   "execution_count": 32,
   "id": "9396add6",
   "metadata": {},
   "outputs": [],
   "source": [
    "#imshow command will open a window with given title and image array matrix\n",
    "cv.imshow(\"sherrlock holmes\",image)\n",
    "#we will handle our closing state with this command(wont go ahaed in )\n",
    "cv.waitKey()\n",
    "#we will destroy the window after keyboard events ...\n",
    "cv.destroyAllWindows()"
   ]
  },
  {
   "cell_type": "code",
   "execution_count": 12,
   "id": "2e3d2624",
   "metadata": {},
   "outputs": [
    {
     "name": "stdout",
     "output_type": "stream",
     "text": [
      "image dimensions: (1445, 1445, 3)\n",
      "image hegith: 1445\n",
      "image width: 1445\n",
      "image color channels dimensions: 3\n"
     ]
    }
   ],
   "source": [
    "print(\"image dimensions:\",image.shape)\n",
    "print(\"image hegith:\",image.shape[0])\n",
    "print(\"image width:\",image.shape[1])\n",
    "print(\"image color channels dimensions:\",image.shape[2])"
   ]
  },
  {
   "cell_type": "code",
   "execution_count": 31,
   "id": "22f29f43",
   "metadata": {},
   "outputs": [
    {
     "data": {
      "text/plain": [
       "array([[107, 115, 112, ...,  91,  99,  99],\n",
       "       [106, 107, 105, ...,  85,  84,  84],\n",
       "       [114, 109, 108, ...,  96, 100, 100],\n",
       "       ...,\n",
       "       [  3,   2,   3, ...,   3,   1,   1],\n",
       "       [  4,   5,   7, ...,   3,   0,   0],\n",
       "       [  4,   5,   7, ...,   3,   0,   0]], dtype=uint8)"
      ]
     },
     "execution_count": 31,
     "metadata": {},
     "output_type": "execute_result"
    }
   ],
   "source": []
  },
  {
   "cell_type": "code",
   "execution_count": 33,
   "id": "075a536f",
   "metadata": {},
   "outputs": [],
   "source": [
    "second = image * 1"
   ]
  },
  {
   "cell_type": "code",
   "execution_count": 23,
   "id": "5210acd7",
   "metadata": {},
   "outputs": [],
   "source": [
    "#imshow command will open a window with given title and image array matrix\n",
    "cv.imshow(\"sherrlock holmes\",second)\n",
    "#we will handle our closing state with this command(wont go ahaed in )\n",
    "cv.waitKey()\n",
    "#we will destroy the window after keyboard events ...\n",
    "cv.destroyAllWindows()"
   ]
  }
 ],
 "metadata": {
  "kernelspec": {
   "display_name": "Python 3 (ipykernel)",
   "language": "python",
   "name": "python3"
  },
  "language_info": {
   "codemirror_mode": {
    "name": "ipython",
    "version": 3
   },
   "file_extension": ".py",
   "mimetype": "text/x-python",
   "name": "python",
   "nbconvert_exporter": "python",
   "pygments_lexer": "ipython3",
   "version": "3.10.9"
  }
 },
 "nbformat": 4,
 "nbformat_minor": 5
}
