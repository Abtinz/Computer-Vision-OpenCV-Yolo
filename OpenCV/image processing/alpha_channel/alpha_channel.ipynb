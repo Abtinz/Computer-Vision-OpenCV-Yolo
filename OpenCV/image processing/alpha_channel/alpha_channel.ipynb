{
 "cells": [
  {
   "cell_type": "code",
   "execution_count": 1,
   "id": "7aaf520b",
   "metadata": {},
   "outputs": [],
   "source": [
    "import cv2 as cv\n",
    "import numpy as np"
   ]
  },
  {
   "cell_type": "markdown",
   "id": "e39475ad",
   "metadata": {},
   "source": [
    "cv.IMREAD_UNCHANGED\n",
    "\n",
    "will provide a code for reading  png images with fourth channel"
   ]
  },
  {
   "cell_type": "code",
   "execution_count": 3,
   "id": "75bb31ff",
   "metadata": {},
   "outputs": [
    {
     "data": {
      "text/plain": [
       "(600, 800, 4)"
      ]
     },
     "execution_count": 3,
     "metadata": {},
     "output_type": "execute_result"
    }
   ],
   "source": [
    "image = cv.imread(\"./transparency.png\", cv.IMREAD_UNCHANGED)\n",
    "image.shape"
   ]
  },
  {
   "cell_type": "code",
   "execution_count": 4,
   "id": "4b009370",
   "metadata": {},
   "outputs": [],
   "source": [
    "cv.imshow(\"transparency\",image)\n",
    "cv.waitKey()\n",
    "cv.destroyAllWindows()"
   ]
  },
  {
   "cell_type": "code",
   "execution_count": 6,
   "id": "46dcad19",
   "metadata": {},
   "outputs": [],
   "source": [
    "bgr_image = image[:,:,0:3]\n",
    "rgb_image = cv.cvtColor(bgr_image ,cv.COLOR_BGR2RGB)"
   ]
  },
  {
   "cell_type": "code",
   "execution_count": null,
   "id": "fdc8db03",
   "metadata": {},
   "outputs": [],
   "source": [
    "IMP\n",
    "plt.figure(figsize=[20,5])\n",
    "\n",
    "#channels\n",
    "plt.subplot(121)\n",
    "plt.imshow(rgb_image,cmap='gray')\n",
    "plt.title(\"RGB IMAGE\")"
   ]
  }
 ],
 "metadata": {
  "kernelspec": {
   "display_name": "Python 3 (ipykernel)",
   "language": "python",
   "name": "python3"
  },
  "language_info": {
   "codemirror_mode": {
    "name": "ipython",
    "version": 3
   },
   "file_extension": ".py",
   "mimetype": "text/x-python",
   "name": "python",
   "nbconvert_exporter": "python",
   "pygments_lexer": "ipython3",
   "version": "3.10.9"
  }
 },
 "nbformat": 4,
 "nbformat_minor": 5
}
