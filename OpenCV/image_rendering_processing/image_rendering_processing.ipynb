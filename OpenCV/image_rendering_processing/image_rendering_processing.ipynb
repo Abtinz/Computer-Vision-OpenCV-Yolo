{
 "cells": [
  {
   "cell_type": "code",
   "execution_count": 1,
   "id": "67d1f0de",
   "metadata": {},
   "outputs": [],
   "source": [
    "import cv2 as cv\n",
    "import numpy as np"
   ]
  },
  {
   "cell_type": "code",
   "execution_count": 8,
   "id": "35ed46b5",
   "metadata": {},
   "outputs": [],
   "source": [
    "image = cv.imread(\"./sherlock.jpg\")"
   ]
  },
  {
   "cell_type": "code",
   "execution_count": 9,
   "id": "6b510b12",
   "metadata": {},
   "outputs": [],
   "source": [
    "cv.imshow(\"sherrlock holmes\",image)\n",
    "cv.waitkey()"
   ]
  }
 ],
 "metadata": {
  "kernelspec": {
   "display_name": "Python 3 (ipykernel)",
   "language": "python",
   "name": "python3"
  },
  "language_info": {
   "codemirror_mode": {
    "name": "ipython",
    "version": 3
   },
   "file_extension": ".py",
   "mimetype": "text/x-python",
   "name": "python",
   "nbconvert_exporter": "python",
   "pygments_lexer": "ipython3",
   "version": "3.10.9"
  }
 },
 "nbformat": 4,
 "nbformat_minor": 5
}
