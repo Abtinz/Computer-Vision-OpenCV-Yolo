{
 "cells": [
  {
   "cell_type": "code",
   "execution_count": 2,
   "id": "e7339e9f",
   "metadata": {},
   "outputs": [],
   "source": [
    "import cv2 as cv\n",
    "import numpy as np"
   ]
  },
  {
   "cell_type": "markdown",
   "id": "a8bbb61e",
   "metadata": {},
   "source": [
    "# Image Reading and Demonstration and Saving In OpenCV"
   ]
  },
  {
   "cell_type": "code",
   "execution_count": 3,
   "id": "085ea728",
   "metadata": {},
   "outputs": [],
   "source": [
    "#this is how we read an image in CV2\n",
    "image = cv.imread(\"./sherlock.jpg\")"
   ]
  },
  {
   "cell_type": "code",
   "execution_count": 37,
   "id": "4ce03244",
   "metadata": {},
   "outputs": [],
   "source": [
    "#imshow command will open a window with given title and image array matrix\n",
    "cv.imshow(\"sherrlock holmes\",image)\n",
    "#we will handle our closing state with this command(wont go ahaed in )\n",
    "cv.waitKey()\n",
    "#we will destroy the window after keyboard events ...\n",
    "cv.destroyAllWindows()"
   ]
  },
  {
   "cell_type": "code",
   "execution_count": 12,
   "id": "ca00a3fa",
   "metadata": {},
   "outputs": [
    {
     "name": "stdout",
     "output_type": "stream",
     "text": [
      "image dimensions: (1445, 1445, 3)\n",
      "image hegith: 1445\n",
      "image width: 1445\n",
      "image color channels dimensions: 3\n"
     ]
    }
   ],
   "source": [
    "print(\"image dimensions:\",image.shape)\n",
    "print(\"image hegith:\",image.shape[0])\n",
    "print(\"image width:\",image.shape[1])\n",
    "print(\"image color channels dimensions:\",image.shape[2])"
   ]
  },
  {
   "cell_type": "code",
   "execution_count": 48,
   "id": "eee6b5f8",
   "metadata": {},
   "outputs": [],
   "source": [
    "purple_image = image * 1\n",
    "purple_image[:,:,1] = 0"
   ]
  },
  {
   "cell_type": "code",
   "execution_count": 49,
   "id": "922900a4",
   "metadata": {},
   "outputs": [],
   "source": [
    "#imshow command will open a window with given title and image array matrix\n",
    "cv.imshow(\"Purple sherlock holmes\",purple_image)\n",
    "#we will handle our closing state with this command(wont go ahaed in )\n",
    "cv.waitKey()\n",
    "#we will destroy the window after keyboard events ...\n",
    "cv.destroyAllWindows()"
   ]
  },
  {
   "cell_type": "code",
   "execution_count": 50,
   "id": "2cac11ab",
   "metadata": {},
   "outputs": [
    {
     "data": {
      "text/plain": [
       "True"
      ]
     },
     "execution_count": 50,
     "metadata": {},
     "output_type": "execute_result"
    }
   ],
   "source": [
    "#how to save results in open cv\n",
    "cv.imwrite(\"purple_sherlock.jpg\" , purple_image)"
   ]
  }
 ],
 "metadata": {
  "kernelspec": {
   "display_name": "Python 3 (ipykernel)",
   "language": "python",
   "name": "python3"
  },
  "language_info": {
   "codemirror_mode": {
    "name": "ipython",
    "version": 3
   },
   "file_extension": ".py",
   "mimetype": "text/x-python",
   "name": "python",
   "nbconvert_exporter": "python",
   "pygments_lexer": "ipython3",
   "version": "3.10.9"
  }
 },
 "nbformat": 4,
 "nbformat_minor": 5
}
