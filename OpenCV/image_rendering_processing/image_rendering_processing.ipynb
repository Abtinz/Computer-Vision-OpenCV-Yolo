{
 "cells": [
  {
   "cell_type": "code",
   "execution_count": 2,
   "id": "db615110",
   "metadata": {},
   "outputs": [],
   "source": [
    "import cv2 as cv\n",
    "import numpy as np"
   ]
  },
  {
   "cell_type": "code",
   "execution_count": 3,
   "id": "80364962",
   "metadata": {},
   "outputs": [],
   "source": [
    "#this is how we read an image in CV2\n",
    "image = cv.imread(\"./sherlock.jpg\")"
   ]
  },
  {
   "cell_type": "code",
   "execution_count": null,
   "id": "9960af8a",
   "metadata": {},
   "outputs": [],
   "source": [
    "cv.imshow(\"sherrlock holmes\",image)\n",
    "cv.waitKey()\n",
    "cv.destroyAll"
   ]
  }
 ],
 "metadata": {
  "kernelspec": {
   "display_name": "Python 3 (ipykernel)",
   "language": "python",
   "name": "python3"
  },
  "language_info": {
   "codemirror_mode": {
    "name": "ipython",
    "version": 3
   },
   "file_extension": ".py",
   "mimetype": "text/x-python",
   "name": "python",
   "nbconvert_exporter": "python",
   "pygments_lexer": "ipython3",
   "version": "3.10.9"
  }
 },
 "nbformat": 4,
 "nbformat_minor": 5
}
