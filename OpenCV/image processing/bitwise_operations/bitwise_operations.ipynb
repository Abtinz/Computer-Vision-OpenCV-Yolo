{
 "cells": [
  {
   "cell_type": "code",
   "execution_count": 1,
   "id": "ef1f1a1e",
   "metadata": {},
   "outputs": [],
   "source": [
    "import cv2 as cv\n",
    "import numpy as np\n",
    "import matplotlib.pyplot as plt"
   ]
  },
  {
   "cell_type": "markdown",
   "id": "3e5afd4a",
   "metadata": {},
   "source": [
    "# Bitwise operation\n",
    "\n",
    "this functions will help us to execute (and, xor, ...) oprations between two images\n",
    "\n",
    "we will use this for alpha channel and png conversion in jpg images"
   ]
  },
  {
   "cell_type": "code",
   "execution_count": 5,
   "id": "d4a8f6f5",
   "metadata": {},
   "outputs": [
    {
     "data": {
      "text/plain": [
       "array([[0, 0, 0, ..., 0, 0, 0],\n",
       "       [0, 0, 0, ..., 0, 0, 0],\n",
       "       [0, 0, 0, ..., 0, 0, 0],\n",
       "       ...,\n",
       "       [0, 0, 0, ..., 0, 0, 0],\n",
       "       [0, 0, 0, ..., 0, 0, 0],\n",
       "       [0, 0, 0, ..., 0, 0, 0]], dtype=uint8)"
      ]
     },
     "execution_count": 5,
     "metadata": {},
     "output_type": "execute_result"
    }
   ],
   "source": [
    "#for test here we will use Mr Alireza AkhavanPour code for testing this operations\n",
    "#for more info please checck class.vision in @Alireza-Akhavan github page\n",
    "    \n",
    "    \n",
    "square = np.zeros((400, 400), np.uint8)\n",
    "cv.rectangle(square, (150, 150), (250, 250), 255, -1)\n",
    "\n",
    "ellipse = np.zeros((300, 300), \"uint8\")\n",
    "cv.ellipse(ellipse, (150, 150), (150, 150), 30, 0, 180, 255, -1)\n",
    "\n",
    "plt.subplot(121);plt.imshow(square,cmap='gray');plt.title(\"square\");\n",
    "plt.subplot(122);plt.imshow(ellipse,cmap='gray');plt.title(\"ellipse\");"
   ]
  },
  {
   "cell_type": "code",
   "execution_count": null,
   "id": "22aa9e4f",
   "metadata": {},
   "outputs": [],
   "source": []
  }
 ],
 "metadata": {
  "kernelspec": {
   "display_name": "Python 3 (ipykernel)",
   "language": "python",
   "name": "python3"
  },
  "language_info": {
   "codemirror_mode": {
    "name": "ipython",
    "version": 3
   },
   "file_extension": ".py",
   "mimetype": "text/x-python",
   "name": "python",
   "nbconvert_exporter": "python",
   "pygments_lexer": "ipython3",
   "version": "3.10.9"
  }
 },
 "nbformat": 4,
 "nbformat_minor": 5
}
