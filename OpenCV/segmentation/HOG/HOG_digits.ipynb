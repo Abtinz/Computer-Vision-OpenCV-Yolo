{
 "cells": [
  {
   "cell_type": "markdown",
   "id": "fb11091b",
   "metadata": {},
   "source": [
    "## Libraries and Dataset"
   ]
  },
  {
   "cell_type": "code",
   "execution_count": 1,
   "id": "0fb6feaa",
   "metadata": {},
   "outputs": [],
   "source": [
    "import cv2\n",
    "import numpy as np\n",
    "import matplotlib.pyplot as plt"
   ]
  },
  {
   "cell_type": "code",
   "execution_count": 2,
   "id": "76fa0eca",
   "metadata": {},
   "outputs": [],
   "source": [
    "def split2d(img, cell_size, flatten=True):\n",
    "    \"\"\"Lets split our data -> by guides of dataset, we have 50 digits in one column and 100 digits in each row. \n",
    "       Therefore, we are gonna to split the image to 5000 cells, each 20x20 size.    \n",
    "    \"\"\"\n",
    "    \n",
    "    h, w = img.shape[:2]\n",
    "    sx, sy = cell_size\n",
    "    cells = [np.hsplit(row, w//sx) for row in np.vsplit(img, h//sy)]\n",
    "    cells = np.array(cells)\n",
    "    if flatten:\n",
    "        cells = cells.reshape(-1, sy, sx)\n",
    "    return cells"
   ]
  },
  {
   "cell_type": "code",
   "execution_count": 3,
   "id": "30d2a2e4",
   "metadata": {},
   "outputs": [],
   "source": [
    "def load_digits(file_name):\n",
    "    digits_img = cv2.imread(file_name, 0) #we need our image to be a single channel(grayscale) data\n",
    "    digits = split2d(digits_img, (20, 20))\n",
    "    labels = np.repeat(np.arange(10), len(digits)/10)\n",
    "    return digits, labels"
   ]
  },
  {
   "cell_type": "code",
   "execution_count": null,
   "id": "b9300b05",
   "metadata": {},
   "outputs": [
    {
     "name": "stdout",
     "output_type": "stream",
     "text": [
      "(5000, 20, 20)\n",
      "(5000,)\n"
     ]
    }
   ],
   "source": [
    "digits, labels = load_digits('images/english_digits.png')\n",
    "print(digits.shape)\n",
    "print(labels.shape)"
   ]
  },
  {
   "cell_type": "code",
   "execution_count": 5,
   "id": "c3e1653a",
   "metadata": {},
   "outputs": [],
   "source": [
    "#lets shuffle our data -> permutation aim to change diversity of similar values\n",
    "#(our dataset has an ordered vector of numbers, sequentially placed from 0 to 9 which is not useful for our learning)\n",
    "rand = np.random.RandomState(10)\n",
    "shuffle = rand.permutation(len(digits))\n",
    "digits, labels = digits[shuffle], labels[shuffle]"
   ]
  },
  {
   "cell_type": "markdown",
   "id": "10cebc3a",
   "metadata": {},
   "source": [
    "HOG in OpenCV"
   ]
  },
  {
   "cell_type": "code",
   "execution_count": null,
   "id": "3e51e774",
   "metadata": {},
   "outputs": [],
   "source": [
    "#Lets define our hyperparameters for defining our HOG model\n",
    "winSize = (20,20)\n",
    "blockSize = (8,8)\n",
    "blockStride = (4,4)\n",
    "cellSize = (8,8)\n",
    "nbins = 9 #will divide 260 degree range to 9 sections\n",
    "derivAperture = 1\n",
    "winSigma = -1.\n",
    "histogramNormType = 0\n",
    "L2HysThreshold = 0.2\n",
    "gammaCorrection = 1\n",
    "nlevels = 64\n",
    "signedGradient = True"
   ]
  },
  {
   "cell_type": "code",
   "execution_count": 7,
   "id": "af584afa",
   "metadata": {},
   "outputs": [],
   "source": [
    "hog = cv2.HOGDescriptor(winSize,blockSize,blockStride,cellSize,nbins,derivAperture,winSigma,histogramNormType,L2HysThreshold,gammaCorrection,nlevels, signedGradient)"
   ]
  },
  {
   "cell_type": "code",
   "execution_count": 21,
   "id": "d2d462bb",
   "metadata": {},
   "outputs": [
    {
     "data": {
      "text/plain": [
       "(5000, 144)"
      ]
     },
     "execution_count": 21,
     "metadata": {},
     "output_type": "execute_result"
    }
   ],
   "source": [
    "hog_descriptors = []\n",
    "for img in digits:\n",
    "    hog_descriptors.append(hog.compute(img))\n",
    "hog_descriptors = np.squeeze(hog_descriptors)\n",
    "hog_descriptors.shape"
   ]
  },
  {
   "cell_type": "markdown",
   "id": "2c6045e9",
   "metadata": {},
   "source": []
  }
 ],
 "metadata": {
  "kernelspec": {
   "display_name": "base",
   "language": "python",
   "name": "python3"
  },
  "language_info": {
   "codemirror_mode": {
    "name": "ipython",
    "version": 3
   },
   "file_extension": ".py",
   "mimetype": "text/x-python",
   "name": "python",
   "nbconvert_exporter": "python",
   "pygments_lexer": "ipython3",
   "version": "3.10.9"
  }
 },
 "nbformat": 4,
 "nbformat_minor": 5
}
