{
 "cells": [
  {
   "cell_type": "code",
   "execution_count": 2,
   "id": "4344bc0e",
   "metadata": {},
   "outputs": [],
   "source": [
    "import cv2"
   ]
  },
  {
   "cell_type": "markdown",
   "id": "90cc7947",
   "metadata": {},
   "source": [
    "# webcam creation with OpenCV"
   ]
  },
  {
   "cell_type": "markdown",
   "id": "1b1fd669",
   "metadata": {},
   "source": [
    "video capture is one of the most useful cv2 function\n",
    "\n",
    "it will provide video sources from given url\n",
    "\n",
    "for webcam, we will pass the index of system webcams(my system has one webcam) from 0 to ..."
   ]
  },
  {
   "cell_type": "code",
   "execution_count": 3,
   "id": "9ef4c1d0",
   "metadata": {},
   "outputs": [],
   "source": [
    "webcam = cv2.VideoCapture(0)"
   ]
  },
  {
   "cell_type": "code",
   "execution_count": null,
   "id": "ecb71ac2",
   "metadata": {},
   "outputs": [],
   "source": [
    "\n",
    "\n",
    "while True:\n",
    "    ret, frame = cap.read()\n",
    "    cv2.imshow('Webcam', frame)\n",
    "    if cv2.waitKey(1) & 0xFF == 27:\n",
    "        break\n",
    "        \n",
    "# Release camera and close windows\n",
    "cap.release()\n",
    "cv2.destroyAllWindows()  "
   ]
  }
 ],
 "metadata": {
  "kernelspec": {
   "display_name": "Python 3 (ipykernel)",
   "language": "python",
   "name": "python3"
  },
  "language_info": {
   "codemirror_mode": {
    "name": "ipython",
    "version": 3
   },
   "file_extension": ".py",
   "mimetype": "text/x-python",
   "name": "python",
   "nbconvert_exporter": "python",
   "pygments_lexer": "ipython3",
   "version": "3.10.9"
  }
 },
 "nbformat": 4,
 "nbformat_minor": 5
}
