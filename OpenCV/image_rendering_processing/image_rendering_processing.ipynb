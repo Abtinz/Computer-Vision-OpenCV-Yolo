{
 "cells": [
  {
   "cell_type": "code",
   "execution_count": 2,
   "id": "49162638",
   "metadata": {},
   "outputs": [],
   "source": [
    "import cv2 as cv\n",
    "import numpy as np"
   ]
  },
  {
   "cell_type": "code",
   "execution_count": 3,
   "id": "ff71f3a2",
   "metadata": {},
   "outputs": [],
   "source": [
    "#this is how we read an image in CV2\n",
    "image = cv.imread(\"./sherlock.jpg\")"
   ]
  },
  {
   "cell_type": "code",
   "execution_count": 4,
   "id": "308019b3",
   "metadata": {},
   "outputs": [],
   "source": [
    "#imshow command will open a window with given title and image array matrix\n",
    "cv.imshow(\"sherrlock holmes\",image)\n",
    "#we will handle our closing state with this command(wont go ahaed in )\n",
    "cv.waitKey()\n",
    "cv.destroyAllWindows()"
   ]
  }
 ],
 "metadata": {
  "kernelspec": {
   "display_name": "Python 3 (ipykernel)",
   "language": "python",
   "name": "python3"
  },
  "language_info": {
   "codemirror_mode": {
    "name": "ipython",
    "version": 3
   },
   "file_extension": ".py",
   "mimetype": "text/x-python",
   "name": "python",
   "nbconvert_exporter": "python",
   "pygments_lexer": "ipython3",
   "version": "3.10.9"
  }
 },
 "nbformat": 4,
 "nbformat_minor": 5
}
