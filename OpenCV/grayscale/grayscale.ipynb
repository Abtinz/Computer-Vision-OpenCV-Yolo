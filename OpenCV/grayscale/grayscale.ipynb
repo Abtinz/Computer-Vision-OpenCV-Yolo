{
 "cells": [
  {
   "cell_type": "code",
   "execution_count": 3,
   "id": "7261f568",
   "metadata": {},
   "outputs": [],
   "source": [
    "import cv2 as cv\n",
    "import numpy as np\n",
    "import matplotlib.pyplot as plt "
   ]
  },
  {
   "cell_type": "code",
   "execution_count": 8,
   "id": "46148033",
   "metadata": {},
   "outputs": [],
   "source": [
    "image = cv.imread(\"./sherlock.jpg\")\n",
    "\n",
    "#first method: using the convertor\n",
    "grayscale = cv.cvtColor(image , cv.COLOR_BGR2GRAY)\n",
    "cv.imshow(\"grayscale sherlock holmes\",grayscale)\n",
    "cv.waitKey()\n",
    "cv.destroyAllWindows()"
   ]
  },
  {
   "cell_type": "code",
   "execution_count": null,
   "id": "72f9abfa",
   "metadata": {},
   "outputs": [],
   "source": [
    "image = cv.imread(\"./sherlock.jpg\", 0)\n"
   ]
  }
 ],
 "metadata": {
  "kernelspec": {
   "display_name": "Python 3 (ipykernel)",
   "language": "python",
   "name": "python3"
  },
  "language_info": {
   "codemirror_mode": {
    "name": "ipython",
    "version": 3
   },
   "file_extension": ".py",
   "mimetype": "text/x-python",
   "name": "python",
   "nbconvert_exporter": "python",
   "pygments_lexer": "ipython3",
   "version": "3.10.9"
  }
 },
 "nbformat": 4,
 "nbformat_minor": 5
}
