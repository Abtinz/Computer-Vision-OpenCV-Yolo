{
 "cells": [
  {
   "cell_type": "code",
   "execution_count": 2,
   "id": "23c8c63d",
   "metadata": {},
   "outputs": [],
   "source": [
    "import cv2 as cv\n",
    "import numpy as np"
   ]
  },
  {
   "cell_type": "markdown",
   "id": "7714917f",
   "metadata": {},
   "source": [
    "# Image Reading and Demonstration In OpenCV"
   ]
  },
  {
   "cell_type": "code",
   "execution_count": 3,
   "id": "cc74b881",
   "metadata": {},
   "outputs": [],
   "source": [
    "#this is how we read an image in CV2\n",
    "image = cv.imread(\"./sherlock.jpg\")"
   ]
  },
  {
   "cell_type": "code",
   "execution_count": 11,
   "id": "ef24ba2d",
   "metadata": {},
   "outputs": [],
   "source": [
    "#imshow command will open a window with given title and image array matrix\n",
    "cv.imshow(\"sherrlock holmes\",image)\n",
    "#we will handle our closing state with this command(wont go ahaed in )\n",
    "cv.waitKey()\n",
    "#we will destroy the window after keyboard events ...\n",
    "cv.destroyAllWindows()"
   ]
  },
  {
   "cell_type": "code",
   "execution_count": 10,
   "id": "b4a63043",
   "metadata": {},
   "outputs": [
    {
     "name": "stdout",
     "output_type": "stream",
     "text": [
      "image dimensions: (1445, 1445, 3)\n",
      "image hegith: 1445\n",
      "image width: 1445\n"
     ]
    }
   ],
   "source": [
    "print(\"image dimensions:\",image.shape)\n",
    "print(\"image hegith:\",image.shape[0])\n",
    "print(\"image width:\",image.shape[1])\n",
    "print(\"image color channels dimensions:\",image.shape[1])"
   ]
  },
  {
   "cell_type": "code",
   "execution_count": null,
   "id": "a1a9a4c4",
   "metadata": {},
   "outputs": [],
   "source": []
  }
 ],
 "metadata": {
  "kernelspec": {
   "display_name": "Python 3 (ipykernel)",
   "language": "python",
   "name": "python3"
  },
  "language_info": {
   "codemirror_mode": {
    "name": "ipython",
    "version": 3
   },
   "file_extension": ".py",
   "mimetype": "text/x-python",
   "name": "python",
   "nbconvert_exporter": "python",
   "pygments_lexer": "ipython3",
   "version": "3.10.9"
  }
 },
 "nbformat": 4,
 "nbformat_minor": 5
}
