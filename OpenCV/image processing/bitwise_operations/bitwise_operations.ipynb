{
 "cells": [
  {
   "cell_type": "code",
   "execution_count": 1,
   "id": "be587ff3",
   "metadata": {},
   "outputs": [],
   "source": [
    "import cv2 as cv\n",
    "import numpy as np\n",
    "import matplotlib.pyplot as plt"
   ]
  },
  {
   "cell_type": "markdown",
   "id": "eaa3d833",
   "metadata": {},
   "source": [
    "# Bitwise operation\n",
    "\n",
    "this function(cv2.bitwise_) will help us to execute (and, xor, ...) oprations between two images\n",
    "\n",
    "we will use this for alpha channel and png conversion in jpg images"
   ]
  },
  {
   "cell_type": "code",
   "execution_count": 8,
   "id": "918e7364",
   "metadata": {},
   "outputs": [
    {
     "name": "stderr",
     "output_type": "stream",
     "text": [
      "C:\\Users\\abt\\AppData\\Local\\Temp\\ipykernel_8416\\2918519336.py:20: MatplotlibDeprecationWarning: Auto-removal of overlapping axes is deprecated since 3.6 and will be removed two minor releases later; explicitly call ax.remove() as needed.\n",
      "  plt.subplot(245);plt.imshow(bitwise_and,cmap='gray');plt.title(\"And\");\n",
      "C:\\Users\\abt\\AppData\\Local\\Temp\\ipykernel_8416\\2918519336.py:22: MatplotlibDeprecationWarning: Auto-removal of overlapping axes is deprecated since 3.6 and will be removed two minor releases later; explicitly call ax.remove() as needed.\n",
      "  plt.subplot(247);plt.imshow(bitwise_xor,cmap='gray');plt.title(\"Xor\");\n"
     ]
    },
    {
     "data": {
      "image/png": "[encoded data removed]",
      "text/plain": [
       "<Figure size 640x480 with 4 Axes>"
      ]
     },
     "metadata": {},
     "output_type": "display_data"
    }
   ],
   "source": [
    "#for test here we will use Mr Alireza AkhavanPour code for testing this operations\n",
    "#for more info please checck class.vision in @Alireza-Akhavan github page\n",
    "      \n",
    "square = np.zeros((300, 300), np.uint8)\n",
    "cv.rectangle(square, (50, 50), (250, 250), 255, -1)\n",
    "\n",
    "ellipse = np.zeros((300, 300), \"uint8\")\n",
    "cv.ellipse(ellipse, (150, 150), (150, 150), 30, 0, 180, 255, -1)\n",
    "\n",
    "plt.subplot(121);plt.imshow(square,cmap='gray');plt.title(\"square\");\n",
    "plt.subplot(122);plt.imshow(ellipse,cmap='gray');plt.title(\"ellipse\");\n",
    "\n",
    "#oprations\n",
    "bitwise_and = cv.bitwise_and(square, ellipse)\n",
    "bitwise_or = cv.bitwise_or(square, ellipse)\n",
    "bitwise_xor = cv.bitwise_xor(square, ellipse)\n",
    "bitwise_not_sq = cv.bitwise_not(square)\n",
    "\n",
    "#ploting the results\n",
    "plt.subplot(245);plt.imshow(bitwise_and,cmap='gray');plt.title(\"And\");\n",
    "plt.subplot(246);plt.imshow(bitwise_or,cmap='gray');plt.title(\"Or\");\n",
    "plt.subplot(247);plt.imshow(bitwise_xor,cmap='gray');plt.title(\"Xor\");\n",
    "plt.subplot(248);plt.imshow(bitwise_not_sq,cmap='gray');plt.title(\"not (square)\");"
   ]
  },
  {
   "cell_type": "code",
   "execution_count": null,
   "id": "469c997a",
   "metadata": {},
   "outputs": [],
   "source": []
  },
  {
   "cell_type": "code",
   "execution_count": null,
   "id": "fb54b7cd",
   "metadata": {},
   "outputs": [],
   "source": []
  }
 ],
 "metadata": {
  "kernelspec": {
   "display_name": "Python 3 (ipykernel)",
   "language": "python",
   "name": "python3"
  },
  "language_info": {
   "codemirror_mode": {
    "name": "ipython",
    "version": 3
   },
   "file_extension": ".py",
   "mimetype": "text/x-python",
   "name": "python",
   "nbconvert_exporter": "python",
   "pygments_lexer": "ipython3",
   "version": "3.10.9"
  }
 },
 "nbformat": 4,
 "nbformat_minor": 5
}
