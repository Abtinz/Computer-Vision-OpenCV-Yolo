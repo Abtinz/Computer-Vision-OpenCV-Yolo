{
 "cells": [
  {
   "cell_type": "code",
   "execution_count": 1,
   "metadata": {},
   "outputs": [],
   "source": [
    "import cv2 as cv\n",
    "import numpy as np\n",
    "from matplotlib import pyplot as plt"
   ]
  },
  {
   "cell_type": "code",
   "execution_count": 9,
   "metadata": {},
   "outputs": [],
   "source": [
    "image = cv.imread('noisy.jpg',0)\n",
    "\n",
    "#here we are combining otsu and binary threshold together(we need binary image)\n",
    "_ ,binary_threshold = cv.threshold(image,127,255,cv.THRESH_BINARY)\n",
    "_ ,otsu_image = cv.threshold(image,0,255,cv.THRESH_BINARY+cv.THRESH_OTSU)"
   ]
  },
  {
   "cell_type": "code",
   "execution_count": 10,
   "metadata": {},
   "outputs": [],
   "source": [
    "#lets build and Otsu's thresholding after Gaussian filtering for removing the noise effects(wont be usefull for all the times)\n",
    "blured_image = cv.GaussianBlur(image,(5,5),0)\n",
    "_ ,otsu_gaussian = cv.threshold(blured_image,0,255,cv.THRESH_BINARY+cv.THRESH_OTSU)"
   ]
  }
 ],
 "metadata": {
  "kernelspec": {
   "display_name": "base",
   "language": "python",
   "name": "python3"
  },
  "language_info": {
   "codemirror_mode": {
    "name": "ipython",
    "version": 3
   },
   "file_extension": ".py",
   "mimetype": "text/x-python",
   "name": "python",
   "nbconvert_exporter": "python",
   "pygments_lexer": "ipython3",
   "version": "3.10.9"
  }
 },
 "nbformat": 4,
 "nbformat_minor": 2
}
