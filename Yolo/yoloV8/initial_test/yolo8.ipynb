{
 "cells": [
  {
   "cell_type": "code",
   "execution_count": 1,
   "metadata": {},
   "outputs": [
    {
     "name": "stdout",
     "output_type": "stream",
     "text": [
      "\n",
      "Found https://media.roboflow.com/notebooks/examples/dog.jpeg locally at dog.jpeg\n",
      "image 1/1 c:\\Users\\abt\\Desktop\\projects\\computer_vision\\Computer-Vision-OpenCV-Yolo\\Yolo\\yoloV8\\initial_test\\dog.jpeg: 640x384 1 person, 1 car, 1 dog, 388.0ms\n",
      "Speed: 7.0ms preprocess, 388.0ms inference, 5.0ms postprocess per image at shape (1, 3, 640, 384)\n",
      "[ultralytics.engine.results.Results object with attributes:\n",
      "\n",
      "boxes: ultralytics.engine.results.Boxes object\n",
      "keypoints: None\n",
      "masks: None\n",
      "names: {0: 'person', 1: 'bicycle', 2: 'car', 3: 'motorcycle', 4: 'airplane', 5: 'bus', 6: 'train', 7: 'truck', 8: 'boat', 9: 'traffic light', 10: 'fire hydrant', 11: 'stop sign', 12: 'parking meter', 13: 'bench', 14: 'bird', 15: 'cat', 16: 'dog', 17: 'horse', 18: 'sheep', 19: 'cow', 20: 'elephant', 21: 'bear', 22: 'zebra', 23: 'giraffe', 24: 'backpack', 25: 'umbrella', 26: 'handbag', 27: 'tie', 28: 'suitcase', 29: 'frisbee', 30: 'skis', 31: 'snowboard', 32: 'sports ball', 33: 'kite', 34: 'baseball bat', 35: 'baseball glove', 36: 'skateboard', 37: 'surfboard', 38: 'tennis racket', 39: 'bottle', 40: 'wine glass', 41: 'cup', 42: 'fork', 43: 'knife', 44: 'spoon', 45: 'bowl', 46: 'banana', 47: 'apple', 48: 'sandwich', 49: 'orange', 50: 'broccoli', 51: 'carrot', 52: 'hot dog', 53: 'pizza', 54: 'donut', 55: 'cake', 56: 'chair', 57: 'couch', 58: 'potted plant', 59: 'bed', 60: 'dining table', 61: 'toilet', 62: 'tv', 63: 'laptop', 64: 'mouse', 65: 'remote', 66: 'keyboard', 67: 'cell phone', 68: 'microwave', 69: 'oven', 70: 'toaster', 71: 'sink', 72: 'refrigerator', 73: 'book', 74: 'clock', 75: 'vase', 76: 'scissors', 77: 'teddy bear', 78: 'hair drier', 79: 'toothbrush'}\n",
      "obb: None\n",
      "orig_img: array([[[202, 157, 120],\n",
      "        [202, 157, 120],\n",
      "        [202, 157, 120],\n",
      "        ...,\n",
      "        [199, 161, 129],\n",
      "        [198, 160, 128],\n",
      "        [198, 160, 128]],\n",
      "\n",
      "       [[201, 156, 119],\n",
      "        [201, 156, 119],\n",
      "        [201, 156, 119],\n",
      "        ...,\n",
      "        [199, 161, 129],\n",
      "        [199, 161, 129],\n",
      "        [198, 160, 128]],\n",
      "\n",
      "       [[201, 156, 119],\n",
      "        [201, 156, 119],\n",
      "        [201, 156, 119],\n",
      "        ...,\n",
      "        [200, 162, 130],\n",
      "        [199, 161, 129],\n",
      "        [199, 161, 129]],\n",
      "\n",
      "       ...,\n",
      "\n",
      "       [[202, 204, 205],\n",
      "        [220, 222, 223],\n",
      "        [233, 235, 236],\n",
      "        ...,\n",
      "        [109, 124, 150],\n",
      "        [112, 126, 154],\n",
      "        [106, 123, 150]],\n",
      "\n",
      "       [[197, 199, 200],\n",
      "        [225, 227, 228],\n",
      "        [220, 222, 223],\n",
      "        ...,\n",
      "        [106, 121, 147],\n",
      "        [105, 119, 147],\n",
      "        [105, 121, 150]],\n",
      "\n",
      "       [[208, 210, 211],\n",
      "        [194, 196, 197],\n",
      "        [221, 223, 224],\n",
      "        ...,\n",
      "        [103, 118, 144],\n",
      "        [106, 120, 148],\n",
      "        [118, 134, 163]]], dtype=uint8)\n",
      "orig_shape: (1280, 720)\n",
      "path: 'c:\\\\Users\\\\abt\\\\Desktop\\\\projects\\\\computer_vision\\\\Computer-Vision-OpenCV-Yolo\\\\Yolo\\\\yoloV8\\\\initial_test\\\\dog.jpeg'\n",
      "probs: None\n",
      "save_dir: 'runs\\\\detect\\\\predict'\n",
      "speed: {'preprocess': 7.002353668212891, 'inference': 387.9985809326172, 'postprocess': 4.99725341796875}]\n"
     ]
    }
   ],
   "source": [
    "from ultralytics import YOLO\n",
    "\n",
    "model = YOLO('yolov8n.pt')\n",
    "result = model.predict(\n",
    "   source='https://media.roboflow.com/notebooks/examples/dog.jpeg',\n",
    "   conf=0.25\n",
    ")\n",
    "print(result)\n",
    "result[0].show()"
   ]
  }
 ],
 "metadata": {
  "kernelspec": {
   "display_name": "base",
   "language": "python",
   "name": "python3"
  },
  "language_info": {
   "codemirror_mode": {
    "name": "ipython",
    "version": 3
   },
   "file_extension": ".py",
   "mimetype": "text/x-python",
   "name": "python",
   "nbconvert_exporter": "python",
   "pygments_lexer": "ipython3",
   "version": "3.10.9"
  }
 },
 "nbformat": 4,
 "nbformat_minor": 2
}
